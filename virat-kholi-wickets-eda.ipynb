{
 "cells": [
  {
   "cell_type": "code",
   "execution_count": 1,
   "id": "f791dc33",
   "metadata": {
    "execution": {
     "iopub.execute_input": "2021-08-22T05:03:16.235372Z",
     "iopub.status.busy": "2021-08-22T05:03:16.234267Z",
     "iopub.status.idle": "2021-08-22T05:03:16.237772Z",
     "shell.execute_reply": "2021-08-22T05:03:16.238241Z",
     "shell.execute_reply.started": "2021-08-22T05:02:38.430801Z"
    },
    "papermill": {
     "duration": 0.025017,
     "end_time": "2021-08-22T05:03:16.238499",
     "exception": false,
     "start_time": "2021-08-22T05:03:16.213482",
     "status": "completed"
    },
    "tags": []
   },
   "outputs": [],
   "source": [
    "# This code is simply about some EDA about the virat and how he lost his wicket\n",
    "# So lets start to do it..."
   ]
  },
  {
   "cell_type": "code",
   "execution_count": 2,
   "id": "faa1e95b",
   "metadata": {
    "execution": {
     "iopub.execute_input": "2021-08-22T05:03:16.274630Z",
     "iopub.status.busy": "2021-08-22T05:03:16.273997Z",
     "iopub.status.idle": "2021-08-22T05:03:17.299933Z",
     "shell.execute_reply": "2021-08-22T05:03:17.299280Z",
     "shell.execute_reply.started": "2021-08-22T05:02:38.469119Z"
    },
    "papermill": {
     "duration": 1.044689,
     "end_time": "2021-08-22T05:03:17.300101",
     "exception": false,
     "start_time": "2021-08-22T05:03:16.255412",
     "status": "completed"
    },
    "tags": []
   },
   "outputs": [],
   "source": [
    "import pandas as pd\n",
    "import numpy as np\n",
    "import matplotlib.pyplot as plt\n",
    "import seaborn as sns\n",
    "import warnings\n",
    "warnings.filterwarnings('ignore')"
   ]
  },
  {
   "cell_type": "code",
   "execution_count": 3,
   "id": "0a3dbfc6",
   "metadata": {
    "execution": {
     "iopub.execute_input": "2021-08-22T05:03:17.338466Z",
     "iopub.status.busy": "2021-08-22T05:03:17.337717Z",
     "iopub.status.idle": "2021-08-22T05:03:17.378101Z",
     "shell.execute_reply": "2021-08-22T05:03:17.377488Z",
     "shell.execute_reply.started": "2021-08-22T05:02:38.509863Z"
    },
    "papermill": {
     "duration": 0.06136,
     "end_time": "2021-08-22T05:03:17.378233",
     "exception": false,
     "start_time": "2021-08-22T05:03:17.316873",
     "status": "completed"
    },
    "tags": []
   },
   "outputs": [
    {
     "data": {
      "text/html": [
       "<div>\n",
       "<style scoped>\n",
       "    .dataframe tbody tr th:only-of-type {\n",
       "        vertical-align: middle;\n",
       "    }\n",
       "\n",
       "    .dataframe tbody tr th {\n",
       "        vertical-align: top;\n",
       "    }\n",
       "\n",
       "    .dataframe thead th {\n",
       "        text-align: right;\n",
       "    }\n",
       "</style>\n",
       "<table border=\"1\" class=\"dataframe\">\n",
       "  <thead>\n",
       "    <tr style=\"text-align: right;\">\n",
       "      <th></th>\n",
       "      <th>How_out</th>\n",
       "      <th>wicket</th>\n",
       "      <th>Fielder</th>\n",
       "      <th>Bowler</th>\n",
       "      <th>Runs</th>\n",
       "      <th>Inns</th>\n",
       "      <th>Opposition</th>\n",
       "      <th>Ground</th>\n",
       "      <th>Start_Date</th>\n",
       "      <th>pace</th>\n",
       "    </tr>\n",
       "  </thead>\n",
       "  <tbody>\n",
       "    <tr>\n",
       "      <th>0</th>\n",
       "      <td>lbw</td>\n",
       "      <td>1</td>\n",
       "      <td>NaN</td>\n",
       "      <td>KMDN Kulasekara</td>\n",
       "      <td>12</td>\n",
       "      <td>1</td>\n",
       "      <td>v Sri Lanka</td>\n",
       "      <td>Dambulla</td>\n",
       "      <td>18-08-2008</td>\n",
       "      <td>right-arm pace</td>\n",
       "    </tr>\n",
       "    <tr>\n",
       "      <th>1</th>\n",
       "      <td>caught</td>\n",
       "      <td>1</td>\n",
       "      <td>CK Kapugedera</td>\n",
       "      <td>T Thushara</td>\n",
       "      <td>37</td>\n",
       "      <td>2</td>\n",
       "      <td>v Sri Lanka</td>\n",
       "      <td>Dambulla</td>\n",
       "      <td>20-08-2008</td>\n",
       "      <td>left-arm pace</td>\n",
       "    </tr>\n",
       "    <tr>\n",
       "      <th>2</th>\n",
       "      <td>run out</td>\n",
       "      <td>1</td>\n",
       "      <td>NaN</td>\n",
       "      <td>NaN</td>\n",
       "      <td>25</td>\n",
       "      <td>1</td>\n",
       "      <td>v Sri Lanka</td>\n",
       "      <td>Colombo (RPS)</td>\n",
       "      <td>24-08-2008</td>\n",
       "      <td>0</td>\n",
       "    </tr>\n",
       "    <tr>\n",
       "      <th>3</th>\n",
       "      <td>bowled</td>\n",
       "      <td>1</td>\n",
       "      <td>NaN</td>\n",
       "      <td>T Thushara</td>\n",
       "      <td>54</td>\n",
       "      <td>1</td>\n",
       "      <td>v Sri Lanka</td>\n",
       "      <td>Colombo (RPS)</td>\n",
       "      <td>27-08-2008</td>\n",
       "      <td>left-arm pace</td>\n",
       "    </tr>\n",
       "    <tr>\n",
       "      <th>4</th>\n",
       "      <td>lbw</td>\n",
       "      <td>1</td>\n",
       "      <td>NaN</td>\n",
       "      <td>KMDN Kulasekara</td>\n",
       "      <td>31</td>\n",
       "      <td>2</td>\n",
       "      <td>v Sri Lanka</td>\n",
       "      <td>Colombo (RPS)</td>\n",
       "      <td>29-08-2008</td>\n",
       "      <td>right-arm pace</td>\n",
       "    </tr>\n",
       "    <tr>\n",
       "      <th>5</th>\n",
       "      <td>not out</td>\n",
       "      <td>0</td>\n",
       "      <td>NaN</td>\n",
       "      <td>NaN</td>\n",
       "      <td>2</td>\n",
       "      <td>1</td>\n",
       "      <td>v Sri Lanka</td>\n",
       "      <td>Colombo (RPS)</td>\n",
       "      <td>14-09-2009</td>\n",
       "      <td>0</td>\n",
       "    </tr>\n",
       "    <tr>\n",
       "      <th>6</th>\n",
       "      <td>caught</td>\n",
       "      <td>1</td>\n",
       "      <td>Umar Gul</td>\n",
       "      <td>Shahid Afridi</td>\n",
       "      <td>16</td>\n",
       "      <td>2</td>\n",
       "      <td>v Pakistan</td>\n",
       "      <td>Centurion</td>\n",
       "      <td>26-09-2009</td>\n",
       "      <td>right-arm spin</td>\n",
       "    </tr>\n",
       "    <tr>\n",
       "      <th>7</th>\n",
       "      <td>TDNB</td>\n",
       "      <td>0</td>\n",
       "      <td>NaN</td>\n",
       "      <td>NaN</td>\n",
       "      <td>-</td>\n",
       "      <td>0</td>\n",
       "      <td>v Australia</td>\n",
       "      <td>Centurion</td>\n",
       "      <td>28-09-2009</td>\n",
       "      <td>0</td>\n",
       "    </tr>\n",
       "    <tr>\n",
       "      <th>8</th>\n",
       "      <td>not out</td>\n",
       "      <td>0</td>\n",
       "      <td>NaN</td>\n",
       "      <td>NaN</td>\n",
       "      <td>79</td>\n",
       "      <td>2</td>\n",
       "      <td>v West Indies</td>\n",
       "      <td>Johannesburg</td>\n",
       "      <td>30-09-2009</td>\n",
       "      <td>0</td>\n",
       "    </tr>\n",
       "    <tr>\n",
       "      <th>9</th>\n",
       "      <td>caught</td>\n",
       "      <td>1</td>\n",
       "      <td>SR Watson</td>\n",
       "      <td>AC Voges</td>\n",
       "      <td>30</td>\n",
       "      <td>2</td>\n",
       "      <td>v Australia</td>\n",
       "      <td>Vadodara</td>\n",
       "      <td>25-10-2009</td>\n",
       "      <td>left-arm spin</td>\n",
       "    </tr>\n",
       "  </tbody>\n",
       "</table>\n",
       "</div>"
      ],
      "text/plain": [
       "   How_out  wicket        Fielder           Bowler Runs  Inns     Opposition  \\\n",
       "0      lbw       1            NaN  KMDN Kulasekara   12     1    v Sri Lanka   \n",
       "1   caught       1  CK Kapugedera       T Thushara   37     2    v Sri Lanka   \n",
       "2  run out       1            NaN              NaN   25     1    v Sri Lanka   \n",
       "3   bowled       1            NaN       T Thushara   54     1    v Sri Lanka   \n",
       "4      lbw       1            NaN  KMDN Kulasekara   31     2    v Sri Lanka   \n",
       "5  not out       0            NaN              NaN    2     1    v Sri Lanka   \n",
       "6   caught       1       Umar Gul    Shahid Afridi   16     2     v Pakistan   \n",
       "7     TDNB       0            NaN              NaN    -     0    v Australia   \n",
       "8  not out       0            NaN              NaN   79     2  v West Indies   \n",
       "9   caught       1      SR Watson         AC Voges   30     2    v Australia   \n",
       "\n",
       "          Ground  Start_Date            pace  \n",
       "0       Dambulla  18-08-2008  right-arm pace  \n",
       "1       Dambulla  20-08-2008   left-arm pace  \n",
       "2  Colombo (RPS)  24-08-2008               0  \n",
       "3  Colombo (RPS)  27-08-2008   left-arm pace  \n",
       "4  Colombo (RPS)  29-08-2008  right-arm pace  \n",
       "5  Colombo (RPS)  14-09-2009               0  \n",
       "6      Centurion  26-09-2009  right-arm spin  \n",
       "7      Centurion  28-09-2009               0  \n",
       "8   Johannesburg  30-09-2009               0  \n",
       "9       Vadodara  25-10-2009   left-arm spin  "
      ]
     },
     "execution_count": 3,
     "metadata": {},
     "output_type": "execute_result"
    }
   ],
   "source": [
    "data= pd.read_csv(r'../input/virat-wickets/final_report.csv')\n",
    "data.head(10)"
   ]
  },
  {
   "cell_type": "code",
   "execution_count": 4,
   "id": "936ed575",
   "metadata": {
    "execution": {
     "iopub.execute_input": "2021-08-22T05:03:17.424075Z",
     "iopub.status.busy": "2021-08-22T05:03:17.423116Z",
     "iopub.status.idle": "2021-08-22T05:03:17.427017Z",
     "shell.execute_reply": "2021-08-22T05:03:17.427611Z",
     "shell.execute_reply.started": "2021-08-22T05:02:38.554187Z"
    },
    "papermill": {
     "duration": 0.032126,
     "end_time": "2021-08-22T05:03:17.427795",
     "exception": false,
     "start_time": "2021-08-22T05:03:17.395669",
     "status": "completed"
    },
    "tags": []
   },
   "outputs": [
    {
     "data": {
      "text/plain": [
       "1    206\n",
       "0     48\n",
       "Name: wicket, dtype: int64"
      ]
     },
     "execution_count": 4,
     "metadata": {},
     "output_type": "execute_result"
    }
   ],
   "source": [
    "data['wicket'].value_counts()"
   ]
  },
  {
   "cell_type": "code",
   "execution_count": 5,
   "id": "b596bd55",
   "metadata": {
    "execution": {
     "iopub.execute_input": "2021-08-22T05:03:17.467395Z",
     "iopub.status.busy": "2021-08-22T05:03:17.466360Z",
     "iopub.status.idle": "2021-08-22T05:03:17.486028Z",
     "shell.execute_reply": "2021-08-22T05:03:17.485397Z",
     "shell.execute_reply.started": "2021-08-22T05:02:38.564525Z"
    },
    "papermill": {
     "duration": 0.040784,
     "end_time": "2021-08-22T05:03:17.486205",
     "exception": false,
     "start_time": "2021-08-22T05:03:17.445421",
     "status": "completed"
    },
    "tags": []
   },
   "outputs": [
    {
     "name": "stdout",
     "output_type": "stream",
     "text": [
      "<class 'pandas.core.frame.DataFrame'>\n",
      "RangeIndex: 254 entries, 0 to 253\n",
      "Data columns (total 10 columns):\n",
      " #   Column      Non-Null Count  Dtype \n",
      "---  ------      --------------  ----- \n",
      " 0   How_out     254 non-null    object\n",
      " 1   wicket      254 non-null    int64 \n",
      " 2   Fielder     151 non-null    object\n",
      " 3   Bowler      194 non-null    object\n",
      " 4   Runs        254 non-null    object\n",
      " 5   Inns        254 non-null    int64 \n",
      " 6   Opposition  254 non-null    object\n",
      " 7   Ground      254 non-null    object\n",
      " 8   Start_Date  254 non-null    object\n",
      " 9   pace        254 non-null    object\n",
      "dtypes: int64(2), object(8)\n",
      "memory usage: 20.0+ KB\n"
     ]
    }
   ],
   "source": [
    "data.info()"
   ]
  },
  {
   "cell_type": "code",
   "execution_count": 6,
   "id": "fed61d79",
   "metadata": {
    "execution": {
     "iopub.execute_input": "2021-08-22T05:03:17.544046Z",
     "iopub.status.busy": "2021-08-22T05:03:17.543359Z",
     "iopub.status.idle": "2021-08-22T05:03:18.012090Z",
     "shell.execute_reply": "2021-08-22T05:03:18.011562Z",
     "shell.execute_reply.started": "2021-08-22T05:02:38.591540Z"
    },
    "papermill": {
     "duration": 0.508066,
     "end_time": "2021-08-22T05:03:18.012233",
     "exception": false,
     "start_time": "2021-08-22T05:03:17.504167",
     "status": "completed"
    },
    "tags": []
   },
   "outputs": [
    {
     "data": {
      "image/png": "[encoded data removed]",
      "text/plain": [
       "<Figure size 1152x432 with 2 Axes>"
      ]
     },
     "metadata": {
      "needs_background": "light"
     },
     "output_type": "display_data"
    }
   ],
   "source": [
    "f,ax = plt.subplots(1,2,figsize=(16,6))\n",
    "data[['How_out','wicket']].groupby('How_out').sum().sort_values('wicket',ascending=False).plot.bar(ax=ax[0])\n",
    "ax[0].set_title('Wickets and How')\n",
    "sns.countplot('How_out',hue='wicket',data= data,ax=ax[1])\n",
    "ax[1].set_title('Out')\n",
    "plt.show()"
   ]
  },
  {
   "cell_type": "code",
   "execution_count": 7,
   "id": "e948bbc5",
   "metadata": {
    "execution": {
     "iopub.execute_input": "2021-08-22T05:03:18.054480Z",
     "iopub.status.busy": "2021-08-22T05:03:18.053852Z",
     "iopub.status.idle": "2021-08-22T05:03:18.055725Z",
     "shell.execute_reply": "2021-08-22T05:03:18.056228Z",
     "shell.execute_reply.started": "2021-08-22T05:02:39.070526Z"
    },
    "papermill": {
     "duration": 0.024984,
     "end_time": "2021-08-22T05:03:18.056391",
     "exception": false,
     "start_time": "2021-08-22T05:03:18.031407",
     "status": "completed"
    },
    "tags": []
   },
   "outputs": [],
   "source": [
    "# Virat has been lost is wicket most of the times by getting caught. Let see with which team he has lost his wicket mostly"
   ]
  },
  {
   "cell_type": "code",
   "execution_count": 8,
   "id": "fb1d3da4",
   "metadata": {
    "execution": {
     "iopub.execute_input": "2021-08-22T05:03:18.096900Z",
     "iopub.status.busy": "2021-08-22T05:03:18.096280Z",
     "iopub.status.idle": "2021-08-22T05:03:18.179194Z",
     "shell.execute_reply": "2021-08-22T05:03:18.178262Z",
     "shell.execute_reply.started": "2021-08-22T05:02:39.077008Z"
    },
    "papermill": {
     "duration": 0.104155,
     "end_time": "2021-08-22T05:03:18.179350",
     "exception": false,
     "start_time": "2021-08-22T05:03:18.075195",
     "status": "completed"
    },
    "tags": []
   },
   "outputs": [
    {
     "data": {
      "text/html": [
       "<style  type=\"text/css\" >\n",
       "#T_06c00_row0_col0,#T_06c00_row0_col1,#T_06c00_row0_col2,#T_06c00_row0_col3,#T_06c00_row0_col4,#T_06c00_row0_col5,#T_06c00_row0_col6,#T_06c00_row0_col7,#T_06c00_row0_col8,#T_06c00_row0_col9,#T_06c00_row0_col11,#T_06c00_row0_col12,#T_06c00_row1_col0,#T_06c00_row1_col4,#T_06c00_row1_col10{\n",
       "            background-color:  #fff7fb;\n",
       "            color:  #000000;\n",
       "        }#T_06c00_row0_col10,#T_06c00_row1_col1,#T_06c00_row1_col2,#T_06c00_row1_col3,#T_06c00_row1_col5,#T_06c00_row1_col6,#T_06c00_row1_col7,#T_06c00_row1_col8,#T_06c00_row1_col9,#T_06c00_row1_col11,#T_06c00_row1_col12{\n",
       "            background-color:  #023858;\n",
       "            color:  #f1f1f1;\n",
       "        }</style><table id=\"T_06c00_\" ><thead>    <tr>        <th class=\"index_name level0\" >Opposition</th>        <th class=\"col_heading level0 col0\" >v Afghanistan</th>        <th class=\"col_heading level0 col1\" >v Australia</th>        <th class=\"col_heading level0 col2\" >v Bangladesh</th>        <th class=\"col_heading level0 col3\" >v England</th>        <th class=\"col_heading level0 col4\" >v Ireland</th>        <th class=\"col_heading level0 col5\" >v Netherlands</th>        <th class=\"col_heading level0 col6\" >v New Zealand</th>        <th class=\"col_heading level0 col7\" >v Pakistan</th>        <th class=\"col_heading level0 col8\" >v South Africa</th>        <th class=\"col_heading level0 col9\" >v Sri Lanka</th>        <th class=\"col_heading level0 col10\" >v U.A.E.</th>        <th class=\"col_heading level0 col11\" >v West Indies</th>        <th class=\"col_heading level0 col12\" >v Zimbabwe</th>    </tr>    <tr>        <th class=\"index_name level0\" >wicket</th>        <th class=\"blank\" ></th>        <th class=\"blank\" ></th>        <th class=\"blank\" ></th>        <th class=\"blank\" ></th>        <th class=\"blank\" ></th>        <th class=\"blank\" ></th>        <th class=\"blank\" ></th>        <th class=\"blank\" ></th>        <th class=\"blank\" ></th>        <th class=\"blank\" ></th>        <th class=\"blank\" ></th>        <th class=\"blank\" ></th>        <th class=\"blank\" ></th>    </tr></thead><tbody>\n",
       "                <tr>\n",
       "                        <th id=\"T_06c00_level0_row0\" class=\"row_heading level0 row0\" >0</th>\n",
       "                        <td id=\"T_06c00_row0_col0\" class=\"data row0 col0\" >1</td>\n",
       "                        <td id=\"T_06c00_row0_col1\" class=\"data row0 col1\" >5</td>\n",
       "                        <td id=\"T_06c00_row0_col2\" class=\"data row0 col2\" >3</td>\n",
       "                        <td id=\"T_06c00_row0_col3\" class=\"data row0 col3\" >4</td>\n",
       "                        <td id=\"T_06c00_row0_col4\" class=\"data row0 col4\" >1</td>\n",
       "                        <td id=\"T_06c00_row0_col5\" class=\"data row0 col5\" >0</td>\n",
       "                        <td id=\"T_06c00_row0_col6\" class=\"data row0 col6\" >3</td>\n",
       "                        <td id=\"T_06c00_row0_col7\" class=\"data row0 col7\" >2</td>\n",
       "                        <td id=\"T_06c00_row0_col8\" class=\"data row0 col8\" >7</td>\n",
       "                        <td id=\"T_06c00_row0_col9\" class=\"data row0 col9\" >10</td>\n",
       "                        <td id=\"T_06c00_row0_col10\" class=\"data row0 col10\" >1</td>\n",
       "                        <td id=\"T_06c00_row0_col11\" class=\"data row0 col11\" >8</td>\n",
       "                        <td id=\"T_06c00_row0_col12\" class=\"data row0 col12\" >3</td>\n",
       "            </tr>\n",
       "            <tr>\n",
       "                        <th id=\"T_06c00_level0_row1\" class=\"row_heading level0 row1\" >1</th>\n",
       "                        <td id=\"T_06c00_row1_col0\" class=\"data row1 col0\" >1</td>\n",
       "                        <td id=\"T_06c00_row1_col1\" class=\"data row1 col1\" >38</td>\n",
       "                        <td id=\"T_06c00_row1_col2\" class=\"data row1 col2\" >9</td>\n",
       "                        <td id=\"T_06c00_row1_col3\" class=\"data row1 col3\" >29</td>\n",
       "                        <td id=\"T_06c00_row1_col4\" class=\"data row1 col4\" >1</td>\n",
       "                        <td id=\"T_06c00_row1_col5\" class=\"data row1 col5\" >1</td>\n",
       "                        <td id=\"T_06c00_row1_col6\" class=\"data row1 col6\" >23</td>\n",
       "                        <td id=\"T_06c00_row1_col7\" class=\"data row1 col7\" >11</td>\n",
       "                        <td id=\"T_06c00_row1_col8\" class=\"data row1 col8\" >20</td>\n",
       "                        <td id=\"T_06c00_row1_col9\" class=\"data row1 col9\" >37</td>\n",
       "                        <td id=\"T_06c00_row1_col10\" class=\"data row1 col10\" >0</td>\n",
       "                        <td id=\"T_06c00_row1_col11\" class=\"data row1 col11\" >31</td>\n",
       "                        <td id=\"T_06c00_row1_col12\" class=\"data row1 col12\" >5</td>\n",
       "            </tr>\n",
       "    </tbody></table>"
      ],
      "text/plain": [
       "<pandas.io.formats.style.Styler at 0x7fdf989d9790>"
      ]
     },
     "execution_count": 8,
     "metadata": {},
     "output_type": "execute_result"
    }
   ],
   "source": [
    "pd.crosstab(data.Opposition,data.wicket).T.style.background_gradient()"
   ]
  },
  {
   "cell_type": "code",
   "execution_count": 9,
   "id": "be0371ea",
   "metadata": {
    "execution": {
     "iopub.execute_input": "2021-08-22T05:03:18.225798Z",
     "iopub.status.busy": "2021-08-22T05:03:18.225118Z",
     "iopub.status.idle": "2021-08-22T05:03:18.487277Z",
     "shell.execute_reply": "2021-08-22T05:03:18.486773Z",
     "shell.execute_reply.started": "2021-08-22T05:02:39.168377Z"
    },
    "papermill": {
     "duration": 0.28861,
     "end_time": "2021-08-22T05:03:18.487417",
     "exception": false,
     "start_time": "2021-08-22T05:03:18.198807",
     "status": "completed"
    },
    "tags": []
   },
   "outputs": [
    {
     "data": {
      "image/png": "[encoded data removed]",
      "text/plain": [
       "<Figure size 432x288 with 1 Axes>"
      ]
     },
     "metadata": {
      "needs_background": "light"
     },
     "output_type": "display_data"
    }
   ],
   "source": [
    "sns.countplot('Opposition',hue='wicket',data=data)\n",
    "plt.xticks(rotation=60)\n",
    "plt.title('Opposition vs wickets')\n",
    "plt.legend(loc='upper right')\n",
    "plt.show()"
   ]
  },
  {
   "cell_type": "code",
   "execution_count": 10,
   "id": "6d8ca843",
   "metadata": {
    "execution": {
     "iopub.execute_input": "2021-08-22T05:03:18.533269Z",
     "iopub.status.busy": "2021-08-22T05:03:18.532229Z",
     "iopub.status.idle": "2021-08-22T05:03:18.535193Z",
     "shell.execute_reply": "2021-08-22T05:03:18.534543Z",
     "shell.execute_reply.started": "2021-08-22T05:02:39.560834Z"
    },
    "papermill": {
     "duration": 0.027067,
     "end_time": "2021-08-22T05:03:18.535332",
     "exception": false,
     "start_time": "2021-08-22T05:03:18.508265",
     "status": "completed"
    },
    "tags": []
   },
   "outputs": [],
   "source": [
    "# We can see that he has lost the wicket most of the time when we played against Australia and with srilanka \n",
    "# But when compared to Australia the percent he got out is lesser"
   ]
  },
  {
   "cell_type": "code",
   "execution_count": 11,
   "id": "c37fd513",
   "metadata": {
    "execution": {
     "iopub.execute_input": "2021-08-22T05:03:18.586358Z",
     "iopub.status.busy": "2021-08-22T05:03:18.585358Z",
     "iopub.status.idle": "2021-08-22T05:03:18.588821Z",
     "shell.execute_reply": "2021-08-22T05:03:18.588153Z",
     "shell.execute_reply.started": "2021-08-22T05:02:39.567266Z"
    },
    "papermill": {
     "duration": 0.033036,
     "end_time": "2021-08-22T05:03:18.588962",
     "exception": false,
     "start_time": "2021-08-22T05:03:18.555926",
     "status": "completed"
    },
    "tags": []
   },
   "outputs": [],
   "source": [
    "# let create a function to do some Analysis in the features\n",
    "def columndist(df, maxgraph, graphperrow):\n",
    "    nunique = df.nunique()\n",
    "    df = df[[col for col in df if nunique[col]>1 and nunique[col]<70]]\n",
    "    nrow, ncol = df.shape\n",
    "    colname = list(df)\n",
    "    graphrow = (ncol+graphperrow-1/graphperrow)\n",
    "    plt.figure(figsize=(12*graphperrow,8*graphrow), dpi = 80)\n",
    "    for i in range(min(ncol,maxgraph)):\n",
    "        plt.subplot(graphrow,graphperrow,i+1)\n",
    "        colndf = df.iloc[:,i]\n",
    "        if (not np.issubdtype(type(colndf.iloc[0]),np.number)):\n",
    "            value_count = colndf.value_counts()\n",
    "            value_count.plot.bar()\n",
    "        else:\n",
    "            colndf.hist()\n",
    "        plt.title(f'{colname[i]}')\n",
    "        plt.xticks(rotation=90)\n",
    "    plt.show()\n",
    "    "
   ]
  },
  {
   "cell_type": "code",
   "execution_count": 12,
   "id": "62a64951",
   "metadata": {
    "execution": {
     "iopub.execute_input": "2021-08-22T05:03:18.638275Z",
     "iopub.status.busy": "2021-08-22T05:03:18.637175Z",
     "iopub.status.idle": "2021-08-22T05:03:20.874942Z",
     "shell.execute_reply": "2021-08-22T05:03:20.875724Z",
     "shell.execute_reply.started": "2021-08-22T05:02:39.580863Z"
    },
    "papermill": {
     "duration": 2.266582,
     "end_time": "2021-08-22T05:03:20.875972",
     "exception": false,
     "start_time": "2021-08-22T05:03:18.609390",
     "status": "completed"
    },
    "tags": []
   },
   "outputs": [
    {
     "data": {
      "image/png": "[encoded data removed]",
      "text/plain": [
       "<Figure size 4800x6912 with 6 Axes>"
      ]
     },
     "metadata": {
      "needs_background": "light"
     },
     "output_type": "display_data"
    }
   ],
   "source": [
    "columndist(data,10,5)"
   ]
  },
  {
   "cell_type": "code",
   "execution_count": 13,
   "id": "3b480fac",
   "metadata": {
    "execution": {
     "iopub.execute_input": "2021-08-22T05:03:20.938039Z",
     "iopub.status.busy": "2021-08-22T05:03:20.937081Z",
     "iopub.status.idle": "2021-08-22T05:03:20.991807Z",
     "shell.execute_reply": "2021-08-22T05:03:20.992299Z",
     "shell.execute_reply.started": "2021-08-22T05:02:41.736963Z"
    },
    "papermill": {
     "duration": 0.084646,
     "end_time": "2021-08-22T05:03:20.992490",
     "exception": false,
     "start_time": "2021-08-22T05:03:20.907844",
     "status": "completed"
    },
    "tags": []
   },
   "outputs": [
    {
     "data": {
      "text/html": [
       "<div>\n",
       "<style scoped>\n",
       "    .dataframe tbody tr th:only-of-type {\n",
       "        vertical-align: middle;\n",
       "    }\n",
       "\n",
       "    .dataframe tbody tr th {\n",
       "        vertical-align: top;\n",
       "    }\n",
       "\n",
       "    .dataframe thead th {\n",
       "        text-align: right;\n",
       "    }\n",
       "</style>\n",
       "<table border=\"1\" class=\"dataframe\">\n",
       "  <thead>\n",
       "    <tr style=\"text-align: right;\">\n",
       "      <th></th>\n",
       "      <th>How_out</th>\n",
       "      <th>wicket</th>\n",
       "      <th>Fielder</th>\n",
       "      <th>Bowler</th>\n",
       "      <th>Runs</th>\n",
       "      <th>Inns</th>\n",
       "      <th>Opposition</th>\n",
       "      <th>Ground</th>\n",
       "      <th>Start_Date</th>\n",
       "      <th>pace</th>\n",
       "    </tr>\n",
       "  </thead>\n",
       "  <tbody>\n",
       "    <tr>\n",
       "      <th>count</th>\n",
       "      <td>254</td>\n",
       "      <td>254.000000</td>\n",
       "      <td>151</td>\n",
       "      <td>194</td>\n",
       "      <td>254</td>\n",
       "      <td>254.000000</td>\n",
       "      <td>254</td>\n",
       "      <td>254</td>\n",
       "      <td>254</td>\n",
       "      <td>254</td>\n",
       "    </tr>\n",
       "    <tr>\n",
       "      <th>unique</th>\n",
       "      <td>9</td>\n",
       "      <td>NaN</td>\n",
       "      <td>108</td>\n",
       "      <td>102</td>\n",
       "      <td>116</td>\n",
       "      <td>NaN</td>\n",
       "      <td>13</td>\n",
       "      <td>62</td>\n",
       "      <td>254</td>\n",
       "      <td>5</td>\n",
       "    </tr>\n",
       "    <tr>\n",
       "      <th>top</th>\n",
       "      <td>caught</td>\n",
       "      <td>NaN</td>\n",
       "      <td>KC Sangakkara</td>\n",
       "      <td>R Rampaul</td>\n",
       "      <td>0</td>\n",
       "      <td>NaN</td>\n",
       "      <td>v Sri Lanka</td>\n",
       "      <td>Dhaka</td>\n",
       "      <td>20-10-2011</td>\n",
       "      <td>right-arm pace</td>\n",
       "    </tr>\n",
       "    <tr>\n",
       "      <th>freq</th>\n",
       "      <td>147</td>\n",
       "      <td>NaN</td>\n",
       "      <td>7</td>\n",
       "      <td>6</td>\n",
       "      <td>13</td>\n",
       "      <td>NaN</td>\n",
       "      <td>47</td>\n",
       "      <td>14</td>\n",
       "      <td>1</td>\n",
       "      <td>107</td>\n",
       "    </tr>\n",
       "    <tr>\n",
       "      <th>mean</th>\n",
       "      <td>NaN</td>\n",
       "      <td>0.811024</td>\n",
       "      <td>NaN</td>\n",
       "      <td>NaN</td>\n",
       "      <td>NaN</td>\n",
       "      <td>1.535433</td>\n",
       "      <td>NaN</td>\n",
       "      <td>NaN</td>\n",
       "      <td>NaN</td>\n",
       "      <td>NaN</td>\n",
       "    </tr>\n",
       "    <tr>\n",
       "      <th>std</th>\n",
       "      <td>NaN</td>\n",
       "      <td>0.392263</td>\n",
       "      <td>NaN</td>\n",
       "      <td>NaN</td>\n",
       "      <td>NaN</td>\n",
       "      <td>0.530423</td>\n",
       "      <td>NaN</td>\n",
       "      <td>NaN</td>\n",
       "      <td>NaN</td>\n",
       "      <td>NaN</td>\n",
       "    </tr>\n",
       "    <tr>\n",
       "      <th>min</th>\n",
       "      <td>NaN</td>\n",
       "      <td>0.000000</td>\n",
       "      <td>NaN</td>\n",
       "      <td>NaN</td>\n",
       "      <td>NaN</td>\n",
       "      <td>0.000000</td>\n",
       "      <td>NaN</td>\n",
       "      <td>NaN</td>\n",
       "      <td>NaN</td>\n",
       "      <td>NaN</td>\n",
       "    </tr>\n",
       "    <tr>\n",
       "      <th>25%</th>\n",
       "      <td>NaN</td>\n",
       "      <td>1.000000</td>\n",
       "      <td>NaN</td>\n",
       "      <td>NaN</td>\n",
       "      <td>NaN</td>\n",
       "      <td>1.000000</td>\n",
       "      <td>NaN</td>\n",
       "      <td>NaN</td>\n",
       "      <td>NaN</td>\n",
       "      <td>NaN</td>\n",
       "    </tr>\n",
       "    <tr>\n",
       "      <th>50%</th>\n",
       "      <td>NaN</td>\n",
       "      <td>1.000000</td>\n",
       "      <td>NaN</td>\n",
       "      <td>NaN</td>\n",
       "      <td>NaN</td>\n",
       "      <td>2.000000</td>\n",
       "      <td>NaN</td>\n",
       "      <td>NaN</td>\n",
       "      <td>NaN</td>\n",
       "      <td>NaN</td>\n",
       "    </tr>\n",
       "    <tr>\n",
       "      <th>75%</th>\n",
       "      <td>NaN</td>\n",
       "      <td>1.000000</td>\n",
       "      <td>NaN</td>\n",
       "      <td>NaN</td>\n",
       "      <td>NaN</td>\n",
       "      <td>2.000000</td>\n",
       "      <td>NaN</td>\n",
       "      <td>NaN</td>\n",
       "      <td>NaN</td>\n",
       "      <td>NaN</td>\n",
       "    </tr>\n",
       "    <tr>\n",
       "      <th>max</th>\n",
       "      <td>NaN</td>\n",
       "      <td>1.000000</td>\n",
       "      <td>NaN</td>\n",
       "      <td>NaN</td>\n",
       "      <td>NaN</td>\n",
       "      <td>2.000000</td>\n",
       "      <td>NaN</td>\n",
       "      <td>NaN</td>\n",
       "      <td>NaN</td>\n",
       "      <td>NaN</td>\n",
       "    </tr>\n",
       "  </tbody>\n",
       "</table>\n",
       "</div>"
      ],
      "text/plain": [
       "       How_out      wicket        Fielder     Bowler Runs        Inns  \\\n",
       "count      254  254.000000            151        194  254  254.000000   \n",
       "unique       9         NaN            108        102  116         NaN   \n",
       "top     caught         NaN  KC Sangakkara  R Rampaul    0         NaN   \n",
       "freq       147         NaN              7          6   13         NaN   \n",
       "mean       NaN    0.811024            NaN        NaN  NaN    1.535433   \n",
       "std        NaN    0.392263            NaN        NaN  NaN    0.530423   \n",
       "min        NaN    0.000000            NaN        NaN  NaN    0.000000   \n",
       "25%        NaN    1.000000            NaN        NaN  NaN    1.000000   \n",
       "50%        NaN    1.000000            NaN        NaN  NaN    2.000000   \n",
       "75%        NaN    1.000000            NaN        NaN  NaN    2.000000   \n",
       "max        NaN    1.000000            NaN        NaN  NaN    2.000000   \n",
       "\n",
       "         Opposition Ground  Start_Date            pace  \n",
       "count           254    254         254             254  \n",
       "unique           13     62         254               5  \n",
       "top     v Sri Lanka  Dhaka  20-10-2011  right-arm pace  \n",
       "freq             47     14           1             107  \n",
       "mean            NaN    NaN         NaN             NaN  \n",
       "std             NaN    NaN         NaN             NaN  \n",
       "min             NaN    NaN         NaN             NaN  \n",
       "25%             NaN    NaN         NaN             NaN  \n",
       "50%             NaN    NaN         NaN             NaN  \n",
       "75%             NaN    NaN         NaN             NaN  \n",
       "max             NaN    NaN         NaN             NaN  "
      ]
     },
     "execution_count": 13,
     "metadata": {},
     "output_type": "execute_result"
    }
   ],
   "source": [
    "data.describe(include='all')"
   ]
  },
  {
   "cell_type": "code",
   "execution_count": 14,
   "id": "545b6300",
   "metadata": {
    "execution": {
     "iopub.execute_input": "2021-08-22T05:03:21.066025Z",
     "iopub.status.busy": "2021-08-22T05:03:21.064949Z",
     "iopub.status.idle": "2021-08-22T05:03:21.068963Z",
     "shell.execute_reply": "2021-08-22T05:03:21.069483Z",
     "shell.execute_reply.started": "2021-08-22T05:02:41.785259Z"
    },
    "papermill": {
     "duration": 0.052419,
     "end_time": "2021-08-22T05:03:21.069697",
     "exception": false,
     "start_time": "2021-08-22T05:03:21.017278",
     "status": "completed"
    },
    "tags": []
   },
   "outputs": [
    {
     "data": {
      "text/html": [
       "<div>\n",
       "<style scoped>\n",
       "    .dataframe tbody tr th:only-of-type {\n",
       "        vertical-align: middle;\n",
       "    }\n",
       "\n",
       "    .dataframe tbody tr th {\n",
       "        vertical-align: top;\n",
       "    }\n",
       "\n",
       "    .dataframe thead th {\n",
       "        text-align: right;\n",
       "    }\n",
       "</style>\n",
       "<table border=\"1\" class=\"dataframe\">\n",
       "  <thead>\n",
       "    <tr style=\"text-align: right;\">\n",
       "      <th></th>\n",
       "      <th>How_out</th>\n",
       "      <th>wicket</th>\n",
       "      <th>Fielder</th>\n",
       "      <th>Bowler</th>\n",
       "      <th>Runs</th>\n",
       "      <th>Inns</th>\n",
       "      <th>Opposition</th>\n",
       "      <th>Ground</th>\n",
       "      <th>Start_Date</th>\n",
       "      <th>pace</th>\n",
       "    </tr>\n",
       "  </thead>\n",
       "  <tbody>\n",
       "    <tr>\n",
       "      <th>2</th>\n",
       "      <td>run out</td>\n",
       "      <td>1</td>\n",
       "      <td>NaN</td>\n",
       "      <td>NaN</td>\n",
       "      <td>25</td>\n",
       "      <td>1</td>\n",
       "      <td>v Sri Lanka</td>\n",
       "      <td>Colombo (RPS)</td>\n",
       "      <td>24-08-2008</td>\n",
       "      <td>0</td>\n",
       "    </tr>\n",
       "    <tr>\n",
       "      <th>7</th>\n",
       "      <td>TDNB</td>\n",
       "      <td>0</td>\n",
       "      <td>NaN</td>\n",
       "      <td>NaN</td>\n",
       "      <td>-</td>\n",
       "      <td>0</td>\n",
       "      <td>v Australia</td>\n",
       "      <td>Centurion</td>\n",
       "      <td>28-09-2009</td>\n",
       "      <td>0</td>\n",
       "    </tr>\n",
       "    <tr>\n",
       "      <th>14</th>\n",
       "      <td>TDNB</td>\n",
       "      <td>0</td>\n",
       "      <td>NaN</td>\n",
       "      <td>NaN</td>\n",
       "      <td>-</td>\n",
       "      <td>0</td>\n",
       "      <td>v Sri Lanka</td>\n",
       "      <td>Delhi</td>\n",
       "      <td>27-12-2009</td>\n",
       "      <td>0</td>\n",
       "    </tr>\n",
       "    <tr>\n",
       "      <th>21</th>\n",
       "      <td>DNB</td>\n",
       "      <td>0</td>\n",
       "      <td>NaN</td>\n",
       "      <td>NaN</td>\n",
       "      <td>-</td>\n",
       "      <td>1</td>\n",
       "      <td>v South Africa</td>\n",
       "      <td>Gwalior</td>\n",
       "      <td>24-02-2010</td>\n",
       "      <td>0</td>\n",
       "    </tr>\n",
       "    <tr>\n",
       "      <th>23</th>\n",
       "      <td>run out</td>\n",
       "      <td>1</td>\n",
       "      <td>NaN</td>\n",
       "      <td>NaN</td>\n",
       "      <td>0</td>\n",
       "      <td>1</td>\n",
       "      <td>v Zimbabwe</td>\n",
       "      <td>Bulawayo</td>\n",
       "      <td>28-05-2010</td>\n",
       "      <td>0</td>\n",
       "    </tr>\n",
       "    <tr>\n",
       "      <th>41</th>\n",
       "      <td>run out</td>\n",
       "      <td>1</td>\n",
       "      <td>NaN</td>\n",
       "      <td>NaN</td>\n",
       "      <td>22</td>\n",
       "      <td>1</td>\n",
       "      <td>v South Africa</td>\n",
       "      <td>Johannesburg</td>\n",
       "      <td>15-01-2011</td>\n",
       "      <td>0</td>\n",
       "    </tr>\n",
       "    <tr>\n",
       "      <th>47</th>\n",
       "      <td>run out</td>\n",
       "      <td>1</td>\n",
       "      <td>NaN</td>\n",
       "      <td>NaN</td>\n",
       "      <td>34</td>\n",
       "      <td>2</td>\n",
       "      <td>v Ireland</td>\n",
       "      <td>Bengaluru</td>\n",
       "      <td>06-03-2011</td>\n",
       "      <td>0</td>\n",
       "    </tr>\n",
       "    <tr>\n",
       "      <th>58</th>\n",
       "      <td>run out</td>\n",
       "      <td>1</td>\n",
       "      <td>NaN</td>\n",
       "      <td>NaN</td>\n",
       "      <td>94</td>\n",
       "      <td>1</td>\n",
       "      <td>v West Indies</td>\n",
       "      <td>Kingston</td>\n",
       "      <td>16-06-2011</td>\n",
       "      <td>0</td>\n",
       "    </tr>\n",
       "    <tr>\n",
       "      <th>75</th>\n",
       "      <td>run out</td>\n",
       "      <td>1</td>\n",
       "      <td>NaN</td>\n",
       "      <td>NaN</td>\n",
       "      <td>77</td>\n",
       "      <td>2</td>\n",
       "      <td>v Sri Lanka</td>\n",
       "      <td>Perth</td>\n",
       "      <td>08-02-2012</td>\n",
       "      <td>0</td>\n",
       "    </tr>\n",
       "    <tr>\n",
       "      <th>111</th>\n",
       "      <td>DNB</td>\n",
       "      <td>0</td>\n",
       "      <td>NaN</td>\n",
       "      <td>NaN</td>\n",
       "      <td>-</td>\n",
       "      <td>2</td>\n",
       "      <td>v Zimbabwe</td>\n",
       "      <td>Bulawayo</td>\n",
       "      <td>01-08-2013</td>\n",
       "      <td>0</td>\n",
       "    </tr>\n",
       "    <tr>\n",
       "      <th>112</th>\n",
       "      <td>DNB</td>\n",
       "      <td>0</td>\n",
       "      <td>NaN</td>\n",
       "      <td>NaN</td>\n",
       "      <td>-</td>\n",
       "      <td>2</td>\n",
       "      <td>v Zimbabwe</td>\n",
       "      <td>Bulawayo</td>\n",
       "      <td>03-08-2013</td>\n",
       "      <td>0</td>\n",
       "    </tr>\n",
       "    <tr>\n",
       "      <th>116</th>\n",
       "      <td>DNB</td>\n",
       "      <td>0</td>\n",
       "      <td>NaN</td>\n",
       "      <td>NaN</td>\n",
       "      <td>-</td>\n",
       "      <td>2</td>\n",
       "      <td>v Australia</td>\n",
       "      <td>Ranchi</td>\n",
       "      <td>23-10-2013</td>\n",
       "      <td>0</td>\n",
       "    </tr>\n",
       "    <tr>\n",
       "      <th>118</th>\n",
       "      <td>run out</td>\n",
       "      <td>1</td>\n",
       "      <td>NaN</td>\n",
       "      <td>NaN</td>\n",
       "      <td>0</td>\n",
       "      <td>1</td>\n",
       "      <td>v Australia</td>\n",
       "      <td>Bengaluru</td>\n",
       "      <td>02-11-2013</td>\n",
       "      <td>0</td>\n",
       "    </tr>\n",
       "    <tr>\n",
       "      <th>124</th>\n",
       "      <td>TDNB</td>\n",
       "      <td>0</td>\n",
       "      <td>NaN</td>\n",
       "      <td>NaN</td>\n",
       "      <td>-</td>\n",
       "      <td>0</td>\n",
       "      <td>v South Africa</td>\n",
       "      <td>Centurion</td>\n",
       "      <td>11-12-2013</td>\n",
       "      <td>0</td>\n",
       "    </tr>\n",
       "    <tr>\n",
       "      <th>133</th>\n",
       "      <td>DNB</td>\n",
       "      <td>0</td>\n",
       "      <td>NaN</td>\n",
       "      <td>NaN</td>\n",
       "      <td>-</td>\n",
       "      <td>2</td>\n",
       "      <td>v Afghanistan</td>\n",
       "      <td>Dhaka</td>\n",
       "      <td>05-03-2014</td>\n",
       "      <td>0</td>\n",
       "    </tr>\n",
       "    <tr>\n",
       "      <th>140</th>\n",
       "      <td>run out</td>\n",
       "      <td>1</td>\n",
       "      <td>NaN</td>\n",
       "      <td>NaN</td>\n",
       "      <td>127</td>\n",
       "      <td>1</td>\n",
       "      <td>v West Indies</td>\n",
       "      <td>Dharamsala</td>\n",
       "      <td>17-10-2014</td>\n",
       "      <td>0</td>\n",
       "    </tr>\n",
       "    <tr>\n",
       "      <th>144</th>\n",
       "      <td>run out</td>\n",
       "      <td>1</td>\n",
       "      <td>NaN</td>\n",
       "      <td>NaN</td>\n",
       "      <td>66</td>\n",
       "      <td>1</td>\n",
       "      <td>v Sri Lanka</td>\n",
       "      <td>Kolkata</td>\n",
       "      <td>13-11-2014</td>\n",
       "      <td>0</td>\n",
       "    </tr>\n",
       "    <tr>\n",
       "      <th>162</th>\n",
       "      <td>run out</td>\n",
       "      <td>1</td>\n",
       "      <td>NaN</td>\n",
       "      <td>NaN</td>\n",
       "      <td>12</td>\n",
       "      <td>1</td>\n",
       "      <td>v South Africa</td>\n",
       "      <td>Indore</td>\n",
       "      <td>14-10-2015</td>\n",
       "      <td>0</td>\n",
       "    </tr>\n",
       "    <tr>\n",
       "      <th>167</th>\n",
       "      <td>run out</td>\n",
       "      <td>1</td>\n",
       "      <td>NaN</td>\n",
       "      <td>NaN</td>\n",
       "      <td>59</td>\n",
       "      <td>1</td>\n",
       "      <td>v Australia</td>\n",
       "      <td>Brisbane</td>\n",
       "      <td>15-01-2016</td>\n",
       "      <td>0</td>\n",
       "    </tr>\n",
       "    <tr>\n",
       "      <th>206</th>\n",
       "      <td>run out</td>\n",
       "      <td>1</td>\n",
       "      <td>NaN</td>\n",
       "      <td>NaN</td>\n",
       "      <td>36</td>\n",
       "      <td>1</td>\n",
       "      <td>v South Africa</td>\n",
       "      <td>Port Elizabeth</td>\n",
       "      <td>13-02-2018</td>\n",
       "      <td>0</td>\n",
       "    </tr>\n",
       "    <tr>\n",
       "      <th>236</th>\n",
       "      <td>TDNB</td>\n",
       "      <td>0</td>\n",
       "      <td>NaN</td>\n",
       "      <td>NaN</td>\n",
       "      <td>-</td>\n",
       "      <td>0</td>\n",
       "      <td>v West Indies</td>\n",
       "      <td>Providence</td>\n",
       "      <td>08-08-2019</td>\n",
       "      <td>0</td>\n",
       "    </tr>\n",
       "  </tbody>\n",
       "</table>\n",
       "</div>"
      ],
      "text/plain": [
       "     How_out  wicket Fielder Bowler Runs  Inns      Opposition  \\\n",
       "2    run out       1     NaN    NaN   25     1     v Sri Lanka   \n",
       "7       TDNB       0     NaN    NaN    -     0     v Australia   \n",
       "14      TDNB       0     NaN    NaN    -     0     v Sri Lanka   \n",
       "21       DNB       0     NaN    NaN    -     1  v South Africa   \n",
       "23   run out       1     NaN    NaN    0     1      v Zimbabwe   \n",
       "41   run out       1     NaN    NaN   22     1  v South Africa   \n",
       "47   run out       1     NaN    NaN   34     2       v Ireland   \n",
       "58   run out       1     NaN    NaN   94     1   v West Indies   \n",
       "75   run out       1     NaN    NaN   77     2     v Sri Lanka   \n",
       "111      DNB       0     NaN    NaN    -     2      v Zimbabwe   \n",
       "112      DNB       0     NaN    NaN    -     2      v Zimbabwe   \n",
       "116      DNB       0     NaN    NaN    -     2     v Australia   \n",
       "118  run out       1     NaN    NaN    0     1     v Australia   \n",
       "124     TDNB       0     NaN    NaN    -     0  v South Africa   \n",
       "133      DNB       0     NaN    NaN    -     2   v Afghanistan   \n",
       "140  run out       1     NaN    NaN  127     1   v West Indies   \n",
       "144  run out       1     NaN    NaN   66     1     v Sri Lanka   \n",
       "162  run out       1     NaN    NaN   12     1  v South Africa   \n",
       "167  run out       1     NaN    NaN   59     1     v Australia   \n",
       "206  run out       1     NaN    NaN   36     1  v South Africa   \n",
       "236     TDNB       0     NaN    NaN    -     0   v West Indies   \n",
       "\n",
       "             Ground  Start_Date pace  \n",
       "2     Colombo (RPS)  24-08-2008    0  \n",
       "7         Centurion  28-09-2009    0  \n",
       "14            Delhi  27-12-2009    0  \n",
       "21          Gwalior  24-02-2010    0  \n",
       "23         Bulawayo  28-05-2010    0  \n",
       "41     Johannesburg  15-01-2011    0  \n",
       "47        Bengaluru  06-03-2011    0  \n",
       "58         Kingston  16-06-2011    0  \n",
       "75            Perth  08-02-2012    0  \n",
       "111        Bulawayo  01-08-2013    0  \n",
       "112        Bulawayo  03-08-2013    0  \n",
       "116          Ranchi  23-10-2013    0  \n",
       "118       Bengaluru  02-11-2013    0  \n",
       "124       Centurion  11-12-2013    0  \n",
       "133           Dhaka  05-03-2014    0  \n",
       "140      Dharamsala  17-10-2014    0  \n",
       "144         Kolkata  13-11-2014    0  \n",
       "162          Indore  14-10-2015    0  \n",
       "167        Brisbane  15-01-2016    0  \n",
       "206  Port Elizabeth  13-02-2018    0  \n",
       "236      Providence  08-08-2019    0  "
      ]
     },
     "execution_count": 14,
     "metadata": {},
     "output_type": "execute_result"
    }
   ],
   "source": [
    "data[data['How_out'].isin(['TDNB' , 'DNB' , 'run out'])]"
   ]
  },
  {
   "cell_type": "code",
   "execution_count": 15,
   "id": "79bdbcdd",
   "metadata": {
    "execution": {
     "iopub.execute_input": "2021-08-22T05:03:21.135357Z",
     "iopub.status.busy": "2021-08-22T05:03:21.134356Z",
     "iopub.status.idle": "2021-08-22T05:03:21.626084Z",
     "shell.execute_reply": "2021-08-22T05:03:21.625532Z",
     "shell.execute_reply.started": "2021-08-22T05:02:41.810832Z"
    },
    "papermill": {
     "duration": 0.529404,
     "end_time": "2021-08-22T05:03:21.626235",
     "exception": false,
     "start_time": "2021-08-22T05:03:21.096831",
     "status": "completed"
    },
    "tags": []
   },
   "outputs": [
    {
     "data": {
      "image/png": "[encoded data removed]",
      "text/plain": [
       "<Figure size 864x432 with 1 Axes>"
      ]
     },
     "metadata": {
      "needs_background": "light"
     },
     "output_type": "display_data"
    }
   ],
   "source": [
    "plt.figure(figsize=(12,6))\n",
    "dis=data.groupby('How_out')['wicket'].hist(legend=True)\n",
    "plt.show()"
   ]
  },
  {
   "cell_type": "code",
   "execution_count": 16,
   "id": "b478d3d1",
   "metadata": {
    "execution": {
     "iopub.execute_input": "2021-08-22T05:03:21.709186Z",
     "iopub.status.busy": "2021-08-22T05:03:21.707186Z",
     "iopub.status.idle": "2021-08-22T05:03:21.960627Z",
     "shell.execute_reply": "2021-08-22T05:03:21.959965Z",
     "shell.execute_reply.started": "2021-08-22T05:02:42.294253Z"
    },
    "papermill": {
     "duration": 0.306987,
     "end_time": "2021-08-22T05:03:21.960764",
     "exception": false,
     "start_time": "2021-08-22T05:03:21.653777",
     "status": "completed"
    },
    "tags": []
   },
   "outputs": [
    {
     "data": {
      "text/plain": [
       "<AxesSubplot:xlabel='None,How_out'>"
      ]
     },
     "execution_count": 16,
     "metadata": {},
     "output_type": "execute_result"
    },
    {
     "data": {
      "image/png": "[encoded data removed]",
      "text/plain": [
       "<Figure size 432x288 with 1 Axes>"
      ]
     },
     "metadata": {
      "needs_background": "light"
     },
     "output_type": "display_data"
    }
   ],
   "source": [
    "data.groupby('How_out').sum().unstack().sort_values(ascending=False).plot(kind='bar',stacked=False)"
   ]
  },
  {
   "cell_type": "code",
   "execution_count": 17,
   "id": "18680612",
   "metadata": {
    "execution": {
     "iopub.execute_input": "2021-08-22T05:03:22.029037Z",
     "iopub.status.busy": "2021-08-22T05:03:22.027183Z",
     "iopub.status.idle": "2021-08-22T05:03:22.452889Z",
     "shell.execute_reply": "2021-08-22T05:03:22.452243Z",
     "shell.execute_reply.started": "2021-08-22T05:02:42.569631Z"
    },
    "papermill": {
     "duration": 0.464978,
     "end_time": "2021-08-22T05:03:22.453030",
     "exception": false,
     "start_time": "2021-08-22T05:03:21.988052",
     "status": "completed"
    },
    "tags": []
   },
   "outputs": [
    {
     "data": {
      "image/png": "[encoded data removed]",
      "text/plain": [
       "<Figure size 432x288 with 1 Axes>"
      ]
     },
     "metadata": {
      "needs_background": "light"
     },
     "output_type": "display_data"
    }
   ],
   "source": [
    "sns.barplot(data['How_out'],data['wicket'])\n",
    "plt.xticks(rotation=60)\n",
    "plt.show()"
   ]
  },
  {
   "cell_type": "code",
   "execution_count": 18,
   "id": "41553834",
   "metadata": {
    "execution": {
     "iopub.execute_input": "2021-08-22T05:03:22.540315Z",
     "iopub.status.busy": "2021-08-22T05:03:22.537353Z",
     "iopub.status.idle": "2021-08-22T05:03:22.652086Z",
     "shell.execute_reply": "2021-08-22T05:03:22.652551Z",
     "shell.execute_reply.started": "2021-08-22T05:02:42.998849Z"
    },
    "papermill": {
     "duration": 0.171604,
     "end_time": "2021-08-22T05:03:22.652769",
     "exception": false,
     "start_time": "2021-08-22T05:03:22.481165",
     "status": "completed"
    },
    "scrolled": true,
    "tags": []
   },
   "outputs": [
    {
     "data": {
      "image/png": "[encoded data removed]",
      "text/plain": [
       "<Figure size 432x288 with 1 Axes>"
      ]
     },
     "metadata": {
      "needs_background": "light"
     },
     "output_type": "display_data"
    }
   ],
   "source": [
    "data[data['wicket']==1].groupby(data['pace']).size().sort_values(ascending=False).plot.bar()\n",
    "plt.show()"
   ]
  },
  {
   "cell_type": "code",
   "execution_count": 19,
   "id": "de4c7892",
   "metadata": {
    "execution": {
     "iopub.execute_input": "2021-08-22T05:03:22.714047Z",
     "iopub.status.busy": "2021-08-22T05:03:22.713329Z",
     "iopub.status.idle": "2021-08-22T05:03:22.715990Z",
     "shell.execute_reply": "2021-08-22T05:03:22.715415Z",
     "shell.execute_reply.started": "2021-08-22T05:02:43.143401Z"
    },
    "papermill": {
     "duration": 0.034632,
     "end_time": "2021-08-22T05:03:22.716131",
     "exception": false,
     "start_time": "2021-08-22T05:03:22.681499",
     "status": "completed"
    },
    "tags": []
   },
   "outputs": [],
   "source": [
    "# Virat lost his wickets mostly when he faced Right_arm pace and also he has played mostly againt the same pacers only\n",
    "# So it might be also reason he lost his wicket against that pace"
   ]
  }
 ],
 "metadata": {
  "kernelspec": {
   "display_name": "Python 3",
   "language": "python",
   "name": "python3"
  },
  "language_info": {
   "codemirror_mode": {
    "name": "ipython",
    "version": 3
   },
   "file_extension": ".py",
   "mimetype": "text/x-python",
   "name": "python",
   "nbconvert_exporter": "python",
   "pygments_lexer": "ipython3",
   "version": "3.7.10"
  },
  "papermill": {
   "default_parameters": {},
   "duration": 15.665191,
   "end_time": "2021-08-22T05:03:23.559125",
   "environment_variables": {},
   "exception": null,
   "input_path": "__notebook__.ipynb",
   "output_path": "__notebook__.ipynb",
   "parameters": {},
   "start_time": "2021-08-22T05:03:07.893934",
   "version": "2.3.3"
  }
 },
 "nbformat": 4,
 "nbformat_minor": 5
}
